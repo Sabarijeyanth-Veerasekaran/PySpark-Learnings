{
 "cells": [
  {
   "cell_type": "code",
   "execution_count": 20,
   "id": "bbc9765f-5c6b-4448-9bab-8bb29452e0b6",
   "metadata": {},
   "outputs": [],
   "source": [
    "from pyspark.sql import SparkSession"
   ]
  },
  {
   "cell_type": "code",
   "execution_count": 9,
   "id": "09052223-34b7-41d3-a9b3-56bb254b7144",
   "metadata": {},
   "outputs": [
    {
     "data": {
      "text/html": [
       "\n",
       "            <div>\n",
       "                <p><b>SparkSession - in-memory</b></p>\n",
       "                \n",
       "        <div>\n",
       "            <p><b>SparkContext</b></p>\n",
       "\n",
       "            <p><a href=\"http://a3e03c8a53e9:4042\">Spark UI</a></p>\n",
       "\n",
       "            <dl>\n",
       "              <dt>Version</dt>\n",
       "                <dd><code>v3.3.0</code></dd>\n",
       "              <dt>Master</dt>\n",
       "                <dd><code>local[*]</code></dd>\n",
       "              <dt>AppName</dt>\n",
       "                <dd><code>Basic-Transformation</code></dd>\n",
       "            </dl>\n",
       "        </div>\n",
       "        \n",
       "            </div>\n",
       "        "
      ],
      "text/plain": [
       "<pyspark.sql.session.SparkSession at 0x7f8314cb7310>"
      ]
     },
     "execution_count": 9,
     "metadata": {},
     "output_type": "execute_result"
    }
   ],
   "source": [
    "spark = (SparkSession\n",
    "        .builder\n",
    "        .appName(\"Basic-Transformation\")\n",
    "         .master(\"local[*]\")\n",
    "        .getOrCreate())\n",
    "spark"
   ]
  },
  {
   "cell_type": "code",
   "execution_count": 10,
   "id": "0026e09b-7887-4337-9990-76b2728bdcec",
   "metadata": {},
   "outputs": [],
   "source": [
    "# Emp Data & Schema\n",
    "\n",
    "emp_data = [\n",
    "    [\"001\",\"101\",\"John Doe\",\"30\",\"Male\",\"50000\",\"2015-01-01\"],\n",
    "    [\"002\",\"101\",\"Jane Smith\",\"25\",\"Female\",\"45000\",\"2016-02-15\"],\n",
    "    [\"003\",\"102\",\"Bob Brown\",\"35\",\"Male\",\"55000\",\"2014-05-01\"],\n",
    "    [\"004\",\"102\",\"Alice Lee\",\"28\",\"Female\",\"48000\",\"2017-09-30\"],\n",
    "    [\"005\",\"103\",\"Jack Chan\",\"40\",\"Male\",\"60000\",\"2013-04-01\"],\n",
    "    [\"006\",\"103\",\"Jill Wong\",\"32\",\"Female\",\"52000\",\"2018-07-01\"],\n",
    "    [\"007\",\"101\",\"James Johnson\",\"42\",\"Male\",\"70000\",\"2012-03-15\"],\n",
    "    [\"008\",\"102\",\"Kate Kim\",\"29\",\"Female\",\"51000\",\"2019-10-01\"],\n",
    "    [\"009\",\"103\",\"Tom Tan\",\"33\",\"Male\",\"58000\",\"2016-06-01\"],\n",
    "    [\"010\",\"104\",\"Lisa Lee\",\"27\",\"Female\",\"47000\",\"2018-08-01\"],\n",
    "    [\"011\",\"104\",\"David Park\",\"38\",\"Male\",\"65000\",\"2015-11-01\"],\n",
    "    [\"012\",\"105\",\"Susan Chen\",\"31\",\"Female\",\"54000\",\"2017-02-15\"],\n",
    "    [\"013\",\"106\",\"Brian Kim\",\"45\",\"Male\",\"75000\",\"2011-07-01\"],\n",
    "    [\"014\",\"107\",\"Emily Lee\",\"26\",\"Female\",\"46000\",\"2019-01-01\"],\n",
    "    [\"015\",\"106\",\"Michael Lee\",\"37\",\"Male\",\"63000\",\"2014-09-30\"],\n",
    "    [\"016\",\"107\",\"Kelly Zhang\",\"30\",\"Female\",\"49000\",\"2018-04-01\"],\n",
    "    [\"017\",\"105\",\"George Wang\",\"34\",\"Male\",\"57000\",\"2016-03-15\"],\n",
    "    [\"018\",\"104\",\"Nancy Liu\",\"29\",\"Female\",\"50000\",\"2017-06-01\"],\n",
    "    [\"019\",\"103\",\"Steven Chen\",\"36\",\"Male\",\"62000\",\"2015-08-01\"],\n",
    "    [\"020\",\"102\",\"Grace Kim\",\"32\",\"Female\",\"53000\",\"2018-11-01\"]\n",
    "]\n",
    "\n",
    "emp_schema = \"employee_id string, department_id string, name string, age string, gender string, salary string, hire_date string\""
   ]
  },
  {
   "cell_type": "code",
   "execution_count": 12,
   "id": "0e744e9c-464c-4e67-97f3-1920a743165c",
   "metadata": {},
   "outputs": [
    {
     "name": "stdout",
     "output_type": "stream",
     "text": [
      "root\n",
      " |-- employee_id: string (nullable = true)\n",
      " |-- department_id: string (nullable = true)\n",
      " |-- name: string (nullable = true)\n",
      " |-- age: string (nullable = true)\n",
      " |-- gender: string (nullable = true)\n",
      " |-- salary: string (nullable = true)\n",
      " |-- hire_date: string (nullable = true)\n",
      "\n"
     ]
    }
   ],
   "source": [
    "emp_df = spark.createDataFrame(data=emp_data, schema=emp_schema)\n",
    "emp_df.printSchema()"
   ]
  },
  {
   "cell_type": "code",
   "execution_count": 21,
   "id": "68dc7536-461b-4904-a47a-4c9be8a8146e",
   "metadata": {},
   "outputs": [
    {
     "name": "stdout",
     "output_type": "stream",
     "text": [
      "root\n",
      " |-- employee_id: string (nullable = true)\n",
      " |-- name: string (nullable = true)\n",
      " |-- age: string (nullable = true)\n",
      " |-- salary: double (nullable = true)\n",
      "\n"
     ]
    }
   ],
   "source": [
    "from pyspark.sql.functions import col,cast\n",
    "emp_cast = emp_df.select(\"employee_id\",\"name\",\"age\",col(\"salary\").cast(\"double\"))\n",
    "emp_cast.printSchema()"
   ]
  },
  {
   "cell_type": "code",
   "execution_count": 25,
   "id": "a435659a-9958-4ced-8dd8-14ea439cc388",
   "metadata": {},
   "outputs": [
    {
     "name": "stdout",
     "output_type": "stream",
     "text": [
      "+-----------+-------------+---+-------+-------+\n",
      "|employee_id|         name|age| salary|    tax|\n",
      "+-----------+-------------+---+-------+-------+\n",
      "|        001|     John Doe| 30|50000.0|10000.0|\n",
      "|        002|   Jane Smith| 25|45000.0| 9000.0|\n",
      "|        003|    Bob Brown| 35|55000.0|11000.0|\n",
      "|        004|    Alice Lee| 28|48000.0| 9600.0|\n",
      "|        005|    Jack Chan| 40|60000.0|12000.0|\n",
      "|        006|    Jill Wong| 32|52000.0|10400.0|\n",
      "|        007|James Johnson| 42|70000.0|14000.0|\n",
      "|        008|     Kate Kim| 29|51000.0|10200.0|\n",
      "|        009|      Tom Tan| 33|58000.0|11600.0|\n",
      "|        010|     Lisa Lee| 27|47000.0| 9400.0|\n",
      "|        011|   David Park| 38|65000.0|13000.0|\n",
      "|        012|   Susan Chen| 31|54000.0|10800.0|\n",
      "|        013|    Brian Kim| 45|75000.0|15000.0|\n",
      "|        014|    Emily Lee| 26|46000.0| 9200.0|\n",
      "|        015|  Michael Lee| 37|63000.0|12600.0|\n",
      "|        016|  Kelly Zhang| 30|49000.0| 9800.0|\n",
      "|        017|  George Wang| 34|57000.0|11400.0|\n",
      "|        018|    Nancy Liu| 29|50000.0|10000.0|\n",
      "|        019|  Steven Chen| 36|62000.0|12400.0|\n",
      "|        020|    Grace Kim| 32|53000.0|10600.0|\n",
      "+-----------+-------------+---+-------+-------+\n",
      "\n"
     ]
    }
   ],
   "source": [
    "emp_tax = emp_cast.withColumn(\"tax\",col(\"salary\")*0.2)\n",
    "emp_tax.show()"
   ]
  },
  {
   "cell_type": "code",
   "execution_count": 30,
   "id": "a034102f-74a8-47fa-8f68-505e181d24bd",
   "metadata": {},
   "outputs": [
    {
     "name": "stdout",
     "output_type": "stream",
     "text": [
      "root\n",
      " |-- employee_id: string (nullable = true)\n",
      " |-- name: string (nullable = true)\n",
      " |-- age: string (nullable = true)\n",
      " |-- salary: double (nullable = true)\n",
      " |-- tax: double (nullable = true)\n",
      " |-- column_1: integer (nullable = false)\n",
      " |-- column_2: integer (nullable = false)\n",
      "\n",
      "+-----------+----------+---+-------+-------+--------+--------+\n",
      "|employee_id|      name|age| salary|    tax|column_1|column_2|\n",
      "+-----------+----------+---+-------+-------+--------+--------+\n",
      "|        001|  John Doe| 30|50000.0|10000.0|       1|       2|\n",
      "|        002|Jane Smith| 25|45000.0| 9000.0|       1|       2|\n",
      "+-----------+----------+---+-------+-------+--------+--------+\n",
      "only showing top 2 rows\n",
      "\n"
     ]
    }
   ],
   "source": [
    "from pyspark.sql.functions import lit\n",
    "# Lit is similar to 1 as column_1 in sql\n",
    "emp_new_cols = emp_tax.withColumn(\"column_1\",lit(1))\\\n",
    "                .withColumn(\"column_2\",lit(2))\n",
    "emp_new_cols.printSchema()\n",
    "emp_new_cols.show(2)\n",
    "\n",
    "# Lit will inefer the type\n",
    "# One more function typedLit present to work with complex datatype like array/dictionary"
   ]
  },
  {
   "cell_type": "code",
   "execution_count": 33,
   "id": "57c0fd50-7933-46d1-8118-702808029522",
   "metadata": {},
   "outputs": [
    {
     "name": "stdout",
     "output_type": "stream",
     "text": [
      "+------+-------------+--------+---+------+------+----------+\n",
      "|emp_id|department_id|    name|age|gender|salary| hire_date|\n",
      "+------+-------------+--------+---+------+------+----------+\n",
      "|   001|          101|John Doe| 30|  Male| 50000|2015-01-01|\n",
      "+------+-------------+--------+---+------+------+----------+\n",
      "only showing top 1 row\n",
      "\n"
     ]
    }
   ],
   "source": [
    "emp_1 = emp_df.withColumnRenamed(\"employee_id\",\"emp_id\")\n",
    "emp_1.show(1)"
   ]
  },
  {
   "cell_type": "code",
   "execution_count": 36,
   "id": "be6062f6-224b-4f41-aa28-82a2de662202",
   "metadata": {},
   "outputs": [
    {
     "name": "stdout",
     "output_type": "stream",
     "text": [
      "+------+-------------+--------+---+------+------+----------+\n",
      "|emp id|department_id|    name|age|gender|salary| hire_date|\n",
      "+------+-------------+--------+---+------+------+----------+\n",
      "|   001|          101|John Doe| 30|  Male| 50000|2015-01-01|\n",
      "+------+-------------+--------+---+------+------+----------+\n",
      "only showing top 1 row\n",
      "\n"
     ]
    }
   ],
   "source": [
    "emp_2 = emp_df.withColumnRenamed(\"employee_id\",\"emp id\")\n",
    "emp_2.show(1)"
   ]
  },
  {
   "cell_type": "code",
   "execution_count": 54,
   "id": "710a53ba-4dd8-477c-9ecd-08169f69f711",
   "metadata": {},
   "outputs": [
    {
     "name": "stdout",
     "output_type": "stream",
     "text": [
      "+------+-------------+--------+---+------+\n",
      "|emp id|department_id|    name|age|salary|\n",
      "+------+-------------+--------+---+------+\n",
      "|   001|          101|John Doe| 30| 50000|\n",
      "+------+-------------+--------+---+------+\n",
      "only showing top 1 row\n",
      "\n"
     ]
    }
   ],
   "source": [
    "# Drop \n",
    "# Always try to pass column name as string to drop method\n",
    "emp_2 = emp_df.withColumnRenamed(\"employee_id\",\"emp id\").drop(\"hire_date\",\"gender\")\n",
    "emp_2.show(1)"
   ]
  },
  {
   "cell_type": "code",
   "execution_count": 57,
   "id": "9d9ca445-10d2-4140-9198-8b3d1466c4f3",
   "metadata": {},
   "outputs": [
    {
     "name": "stdout",
     "output_type": "stream",
     "text": [
      "+-----------+-------------+---+-------+-------+\n",
      "|employee_id|         name|age| salary|    tax|\n",
      "+-----------+-------------+---+-------+-------+\n",
      "|        003|    Bob Brown| 35|55000.0|11000.0|\n",
      "|        005|    Jack Chan| 40|60000.0|12000.0|\n",
      "|        006|    Jill Wong| 32|52000.0|10400.0|\n",
      "|        007|James Johnson| 42|70000.0|14000.0|\n",
      "|        008|     Kate Kim| 29|51000.0|10200.0|\n",
      "|        009|      Tom Tan| 33|58000.0|11600.0|\n",
      "|        011|   David Park| 38|65000.0|13000.0|\n",
      "|        012|   Susan Chen| 31|54000.0|10800.0|\n",
      "|        013|    Brian Kim| 45|75000.0|15000.0|\n",
      "|        015|  Michael Lee| 37|63000.0|12600.0|\n",
      "|        017|  George Wang| 34|57000.0|11400.0|\n",
      "|        019|  Steven Chen| 36|62000.0|12400.0|\n",
      "|        020|    Grace Kim| 32|53000.0|10600.0|\n",
      "+-----------+-------------+---+-------+-------+\n",
      "\n"
     ]
    }
   ],
   "source": [
    "# Filter\n",
    "emp_filtered = emp_tax.where(\"tax > 10000\")\n",
    "emp_filtered.show()"
   ]
  },
  {
   "cell_type": "code",
   "execution_count": 62,
   "id": "d39d1c3e-30e5-4490-9017-3dd2bd273de2",
   "metadata": {},
   "outputs": [
    {
     "name": "stdout",
     "output_type": "stream",
     "text": [
      "+-----------+-------------+---+-------+-------+\n",
      "|employee_id|         name|age| salary|    tax|\n",
      "+-----------+-------------+---+-------+-------+\n",
      "|        003|    Bob Brown| 35|55000.0|11000.0|\n",
      "|        005|    Jack Chan| 40|60000.0|12000.0|\n",
      "|        006|    Jill Wong| 32|52000.0|10400.0|\n",
      "|        007|James Johnson| 42|70000.0|14000.0|\n",
      "|        008|     Kate Kim| 29|51000.0|10200.0|\n",
      "+-----------+-------------+---+-------+-------+\n",
      "\n"
     ]
    }
   ],
   "source": [
    "# Limit\n",
    "emp_limit = emp_filtered.limit(5)\n",
    "emp_limit.count()\n",
    "emp_limit.show()"
   ]
  },
  {
   "cell_type": "code",
   "execution_count": 66,
   "id": "6b57486a-f0ef-401e-9577-73d2e8d0a9e6",
   "metadata": {},
   "outputs": [
    {
     "name": "stdout",
     "output_type": "stream",
     "text": [
      "+-----------+-------------+-------------+---+------+------+----------+-------+--------+--------+\n",
      "|employee_id|department_id|         name|age|gender|salary| hire_date|    tax|column_1|column_2|\n",
      "+-----------+-------------+-------------+---+------+------+----------+-------+--------+--------+\n",
      "|        001|          101|     John Doe| 30|  Male| 50000|2015-01-01|10000.0|       1|       2|\n",
      "|        002|          101|   Jane Smith| 25|Female| 45000|2016-02-15| 9000.0|       1|       2|\n",
      "|        003|          102|    Bob Brown| 35|  Male| 55000|2014-05-01|11000.0|       1|       2|\n",
      "|        004|          102|    Alice Lee| 28|Female| 48000|2017-09-30| 9600.0|       1|       2|\n",
      "|        005|          103|    Jack Chan| 40|  Male| 60000|2013-04-01|12000.0|       1|       2|\n",
      "|        006|          103|    Jill Wong| 32|Female| 52000|2018-07-01|10400.0|       1|       2|\n",
      "|        007|          101|James Johnson| 42|  Male| 70000|2012-03-15|14000.0|       1|       2|\n",
      "|        008|          102|     Kate Kim| 29|Female| 51000|2019-10-01|10200.0|       1|       2|\n",
      "|        009|          103|      Tom Tan| 33|  Male| 58000|2016-06-01|11600.0|       1|       2|\n",
      "|        010|          104|     Lisa Lee| 27|Female| 47000|2018-08-01| 9400.0|       1|       2|\n",
      "|        011|          104|   David Park| 38|  Male| 65000|2015-11-01|13000.0|       1|       2|\n",
      "|        012|          105|   Susan Chen| 31|Female| 54000|2017-02-15|10800.0|       1|       2|\n",
      "|        013|          106|    Brian Kim| 45|  Male| 75000|2011-07-01|15000.0|       1|       2|\n",
      "|        014|          107|    Emily Lee| 26|Female| 46000|2019-01-01| 9200.0|       1|       2|\n",
      "|        015|          106|  Michael Lee| 37|  Male| 63000|2014-09-30|12600.0|       1|       2|\n",
      "|        016|          107|  Kelly Zhang| 30|Female| 49000|2018-04-01| 9800.0|       1|       2|\n",
      "|        017|          105|  George Wang| 34|  Male| 57000|2016-03-15|11400.0|       1|       2|\n",
      "|        018|          104|    Nancy Liu| 29|Female| 50000|2017-06-01|10000.0|       1|       2|\n",
      "|        019|          103|  Steven Chen| 36|  Male| 62000|2015-08-01|12400.0|       1|       2|\n",
      "|        020|          102|    Grace Kim| 32|Female| 53000|2018-11-01|10600.0|       1|       2|\n",
      "+-----------+-------------+-------------+---+------+------+----------+-------+--------+--------+\n",
      "\n"
     ]
    }
   ],
   "source": [
    "# Add multiple column using withColumns (s)\n",
    "columns = {\n",
    "    \"tax\" : col(\"salary\")*0.2,\n",
    "    \"column_1\" : lit(1),\n",
    "    \"column_2\" : lit(2)\n",
    "}\n",
    "\n",
    "emp_final = emp_df.withColumns(columns)\n",
    "emp_final.show()"
   ]
  }
 ],
 "metadata": {
  "kernelspec": {
   "display_name": "Python 3 (ipykernel)",
   "language": "python",
   "name": "python3"
  },
  "language_info": {
   "codemirror_mode": {
    "name": "ipython",
    "version": 3
   },
   "file_extension": ".py",
   "mimetype": "text/x-python",
   "name": "python",
   "nbconvert_exporter": "python",
   "pygments_lexer": "ipython3",
   "version": "3.10.6"
  }
 },
 "nbformat": 4,
 "nbformat_minor": 5
}
