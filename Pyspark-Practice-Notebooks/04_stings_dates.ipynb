{
 "cells": [
  {
   "cell_type": "code",
   "execution_count": 2,
   "id": "b1129705-f8bc-4303-8f2a-9fcaa2e542fd",
   "metadata": {},
   "outputs": [
    {
     "data": {
      "text/html": [
       "\n",
       "            <div>\n",
       "                <p><b>SparkSession - in-memory</b></p>\n",
       "                \n",
       "        <div>\n",
       "            <p><b>SparkContext</b></p>\n",
       "\n",
       "            <p><a href=\"http://a3e03c8a53e9:4043\">Spark UI</a></p>\n",
       "\n",
       "            <dl>\n",
       "              <dt>Version</dt>\n",
       "                <dd><code>v3.3.0</code></dd>\n",
       "              <dt>Master</dt>\n",
       "                <dd><code>local[*]</code></dd>\n",
       "              <dt>AppName</dt>\n",
       "                <dd><code>Spark Introduction</code></dd>\n",
       "            </dl>\n",
       "        </div>\n",
       "        \n",
       "            </div>\n",
       "        "
      ],
      "text/plain": [
       "<pyspark.sql.session.SparkSession at 0x7fac3c44a920>"
      ]
     },
     "execution_count": 2,
     "metadata": {},
     "output_type": "execute_result"
    }
   ],
   "source": [
    "# Spark Session\n",
    "from pyspark.sql import SparkSession\n",
    "\n",
    "\n",
    "spark = (\n",
    "    SparkSession\n",
    "    .builder\n",
    "    .appName(\"Spark Introduction\")\n",
    "    .master(\"local[*]\")\n",
    "    .getOrCreate()\n",
    ")\n",
    "spark"
   ]
  },
  {
   "cell_type": "code",
   "execution_count": 47,
   "id": "05def83a-8ded-49b8-b8a2-cffaa9d3d4c7",
   "metadata": {},
   "outputs": [],
   "source": [
    "# Emp Data & Schema\n",
    "\n",
    "emp_data = [\n",
    "    [\"001\",\"101\",\"John Doe\",\"30\",\"Male\",\"50000\",\"2015-01-01\"],\n",
    "    [\"002\",\"101\",\"Jane Smith\",\"25\",\"Female\",\"45000\",\"2016-02-15\"],\n",
    "    [\"003\",\"102\",\"Bob Brown\",\"35\",\"Male\",\"55000\",\"2014-05-01\"],\n",
    "    [\"004\",\"102\",\"Alice Lee\",\"28\",\"Female\",\"48000\",\"2017-09-30\"],\n",
    "    [\"005\",\"103\",\"Jack Chan\",\"40\",\"Male\",\"60000\",\"2013-04-01\"],\n",
    "    [\"006\",\"103\",\"Jill Wong\",\"32\",\"Female\",\"52000\",\"2018-07-01\"],\n",
    "    [\"007\",\"101\",\"James Johnson\",\"42\",\"Male\",\"70000\",\"2012-03-15\"],\n",
    "    [\"008\",\"102\",\"Kate Kim\",\"29\",\"Female\",\"51000\",\"2019-10-01\"],\n",
    "    [\"009\",\"103\",\"Tom Tan\",\"33\",\"Male\",\"58000\",\"2016-06-01\"],\n",
    "    [\"010\",\"104\",\"Lisa Lee\",\"27\",\"Female\",\"47000\",\"2018-08-01\"],\n",
    "    [\"011\",\"104\",\"David Park\",\"38\",\"Male\",\"65000\",\"2015-11-01\"],\n",
    "    [\"012\",\"105\",\"Susan Chen\",\"31\",\"Female\",\"54000\",\"2017-02-15\"],\n",
    "    [\"013\",\"106\",\"Brian Kim\",\"45\",\"Male\",\"75000\",\"2011-07-01\"],\n",
    "    [\"014\",\"107\",\"Emily Lee\",\"26\",\"Female\",\"46000\",\"2019-01-01\"],\n",
    "    [\"015\",\"106\",\"Michael Lee\",\"37\",\"Male\",\"63000\",\"2014-09-30\"],\n",
    "    [\"016\",\"107\",\"Kelly Zhang\",\"30\",\"Female\",\"49000\",\"2018-04-01\"],\n",
    "    [\"017\",\"105\",\"George Wang\",\"34\",\"Male\",\"57000\",\"2016-03-15\"],\n",
    "    [\"018\",\"104\",\"Nancy Liu\",\"29\",\"Female\",\"50000\",\"2017-06-01\"],\n",
    "    [\"019\",\"103\",\"Steven Chen\",\"36\",\"Male\",\"62000\",\"2015-08-01\"],\n",
    "    [\"020\",\"102\",\"Grace Kim\",\"32\",\"Female\",\"53000\",\"2018-11-01\"],\n",
    "    [\"021\",\"102\",\"Grace Kim\",\"32\",\"\",\"53000\",\"2018-11-01\"]\n",
    "]\n",
    "\n",
    "emp_schema = \"employee_id string, department_id string, name string, age string, gender string, salary string, hire_date string\"\n",
    "\n",
    "\n",
    "# Create emp DataFrame\n",
    "\n",
    "emp_df = spark.createDataFrame(data=emp_data, schema=emp_schema)"
   ]
  },
  {
   "cell_type": "code",
   "execution_count": 49,
   "id": "eb855f29-bebd-44b8-b625-9c55ce7423ab",
   "metadata": {},
   "outputs": [
    {
     "name": "stdout",
     "output_type": "stream",
     "text": [
      "root\n",
      " |-- employee_id: string (nullable = true)\n",
      " |-- department_id: string (nullable = true)\n",
      " |-- name: string (nullable = true)\n",
      " |-- age: string (nullable = true)\n",
      " |-- gender: string (nullable = true)\n",
      " |-- salary: string (nullable = true)\n",
      " |-- hire_date: string (nullable = true)\n",
      "\n",
      "+-----------+-------------+-------------+---+------+------+----------+\n",
      "|employee_id|department_id|         name|age|gender|salary| hire_date|\n",
      "+-----------+-------------+-------------+---+------+------+----------+\n",
      "|        001|          101|     John Doe| 30|  Male| 50000|2015-01-01|\n",
      "|        002|          101|   Jane Smith| 25|Female| 45000|2016-02-15|\n",
      "|        003|          102|    Bob Brown| 35|  Male| 55000|2014-05-01|\n",
      "|        004|          102|    Alice Lee| 28|Female| 48000|2017-09-30|\n",
      "|        005|          103|    Jack Chan| 40|  Male| 60000|2013-04-01|\n",
      "|        006|          103|    Jill Wong| 32|Female| 52000|2018-07-01|\n",
      "|        007|          101|James Johnson| 42|  Male| 70000|2012-03-15|\n",
      "|        008|          102|     Kate Kim| 29|Female| 51000|2019-10-01|\n",
      "|        009|          103|      Tom Tan| 33|  Male| 58000|2016-06-01|\n",
      "|        010|          104|     Lisa Lee| 27|Female| 47000|2018-08-01|\n",
      "|        011|          104|   David Park| 38|  Male| 65000|2015-11-01|\n",
      "|        012|          105|   Susan Chen| 31|Female| 54000|2017-02-15|\n",
      "|        013|          106|    Brian Kim| 45|  Male| 75000|2011-07-01|\n",
      "|        014|          107|    Emily Lee| 26|Female| 46000|2019-01-01|\n",
      "|        015|          106|  Michael Lee| 37|  Male| 63000|2014-09-30|\n",
      "|        016|          107|  Kelly Zhang| 30|Female| 49000|2018-04-01|\n",
      "|        017|          105|  George Wang| 34|  Male| 57000|2016-03-15|\n",
      "|        018|          104|    Nancy Liu| 29|Female| 50000|2017-06-01|\n",
      "|        019|          103|  Steven Chen| 36|  Male| 62000|2015-08-01|\n",
      "|        020|          102|    Grace Kim| 32|Female| 53000|2018-11-01|\n",
      "|        021|          102|    Grace Kim| 32|      | 53000|2018-11-01|\n",
      "+-----------+-------------+-------------+---+------+------+----------+\n",
      "\n"
     ]
    }
   ],
   "source": [
    "emp_df.printSchema()\n",
    "emp_df.show(21)"
   ]
  },
  {
   "cell_type": "code",
   "execution_count": 51,
   "id": "1aa4e9c0-614b-4e62-9291-7ae1425e8e22",
   "metadata": {},
   "outputs": [
    {
     "name": "stdout",
     "output_type": "stream",
     "text": [
      "+-----------+-------------+-------------+---+------+------+----------+----+\n",
      "|employee_id|department_id|         name|age|gender|salary| hire_date|   G|\n",
      "+-----------+-------------+-------------+---+------+------+----------+----+\n",
      "|        001|          101|     John Doe| 30|  Male| 50000|2015-01-01|   M|\n",
      "|        002|          101|   Jane Smith| 25|Female| 45000|2016-02-15|   F|\n",
      "|        003|          102|    Bob Brown| 35|  Male| 55000|2014-05-01|   M|\n",
      "|        004|          102|    Alice Lee| 28|Female| 48000|2017-09-30|   F|\n",
      "|        005|          103|    Jack Chan| 40|  Male| 60000|2013-04-01|   M|\n",
      "|        006|          103|    Jill Wong| 32|Female| 52000|2018-07-01|   F|\n",
      "|        007|          101|James Johnson| 42|  Male| 70000|2012-03-15|   M|\n",
      "|        008|          102|     Kate Kim| 29|Female| 51000|2019-10-01|   F|\n",
      "|        009|          103|      Tom Tan| 33|  Male| 58000|2016-06-01|   M|\n",
      "|        010|          104|     Lisa Lee| 27|Female| 47000|2018-08-01|   F|\n",
      "|        011|          104|   David Park| 38|  Male| 65000|2015-11-01|   M|\n",
      "|        012|          105|   Susan Chen| 31|Female| 54000|2017-02-15|   F|\n",
      "|        013|          106|    Brian Kim| 45|  Male| 75000|2011-07-01|   M|\n",
      "|        014|          107|    Emily Lee| 26|Female| 46000|2019-01-01|   F|\n",
      "|        015|          106|  Michael Lee| 37|  Male| 63000|2014-09-30|   M|\n",
      "|        016|          107|  Kelly Zhang| 30|Female| 49000|2018-04-01|   F|\n",
      "|        017|          105|  George Wang| 34|  Male| 57000|2016-03-15|   M|\n",
      "|        018|          104|    Nancy Liu| 29|Female| 50000|2017-06-01|   F|\n",
      "|        019|          103|  Steven Chen| 36|  Male| 62000|2015-08-01|   M|\n",
      "|        020|          102|    Grace Kim| 32|Female| 53000|2018-11-01|   F|\n",
      "|        021|          102|    Grace Kim| 32|      | 53000|2018-11-01|null|\n",
      "+-----------+-------------+-------------+---+------+------+----------+----+\n",
      "\n",
      "+-----------+-------------+----------+---+------+------+----------+----------+\n",
      "|employee_id|department_id|      name|age|gender|salary| hire_date|new_gender|\n",
      "+-----------+-------------+----------+---+------+------+----------+----------+\n",
      "|        001|          101|  John Doe| 30|  Male| 50000|2015-01-01|         M|\n",
      "|        002|          101|Jane Smith| 25|Female| 45000|2016-02-15|         F|\n",
      "|        003|          102| Bob Brown| 35|  Male| 55000|2014-05-01|         M|\n",
      "|        004|          102| Alice Lee| 28|Female| 48000|2017-09-30|         F|\n",
      "|        005|          103| Jack Chan| 40|  Male| 60000|2013-04-01|         M|\n",
      "+-----------+-------------+----------+---+------+------+----------+----------+\n",
      "only showing top 5 rows\n",
      "\n"
     ]
    }
   ],
   "source": [
    "from pyspark.sql.functions import when,col,lower,expr\n",
    "\n",
    "emp_gender_fixed = emp_df.withColumn(\"G\",when(lower(col(\"gender\"))==\"male\",'M')\\\n",
    "                                    .when(lower(col(\"gender\"))==\"female\",'F')\\\n",
    "                                     .otherwise(None))\n",
    "emp_gender_fixed.show(21)\n",
    "\n",
    "# Using expr \n",
    "emp_df.withColumn(\"new_gender\",expr(\"case when gender == 'Male' then 'M' when gender=='Female' then 'F' else null end\")).show(5)"
   ]
  },
  {
   "cell_type": "code",
   "execution_count": 37,
   "id": "3cc255b7-1425-4a97-9d4a-6a58f64fc9c6",
   "metadata": {},
   "outputs": [
    {
     "name": "stdout",
     "output_type": "stream",
     "text": [
      "root\n",
      " |-- employee_id: string (nullable = true)\n",
      " |-- department_id: string (nullable = true)\n",
      " |-- name: string (nullable = true)\n",
      " |-- age: string (nullable = true)\n",
      " |-- gender: string (nullable = true)\n",
      " |-- salary: string (nullable = true)\n",
      " |-- hire_date: date (nullable = true)\n",
      "\n",
      "+-----------+-------------+----------+---+------+------+----------+\n",
      "|employee_id|department_id|      name|age|gender|salary| hire_date|\n",
      "+-----------+-------------+----------+---+------+------+----------+\n",
      "|        001|          101|  John Doe| 30|  Male| 50000|2015-01-01|\n",
      "|        002|          101|Jane Smith| 25|Female| 45000|2016-02-15|\n",
      "|        003|          102| Bob Brown| 35|  Male| 55000|2014-05-01|\n",
      "|        004|          102| Alice Lee| 28|Female| 48000|2017-09-30|\n",
      "|        005|          103| Jack Chan| 40|  Male| 60000|2013-04-01|\n",
      "+-----------+-------------+----------+---+------+------+----------+\n",
      "only showing top 5 rows\n",
      "\n"
     ]
    }
   ],
   "source": [
    "# Convert data\n",
    "from pyspark.sql.functions import to_date\n",
    "\n",
    "emp_date_fix = emp_df.withColumn(\"hire_date\",to_date(\"hire_date\",\"yyyy-MM-dd\"))\n",
    "emp_date_fix.printSchema()\n",
    "emp_date_fix.show(5)"
   ]
  },
  {
   "cell_type": "code",
   "execution_count": 52,
   "id": "68d0c4e0-dad2-4aea-b4ba-55ba5a2e449f",
   "metadata": {},
   "outputs": [
    {
     "name": "stdout",
     "output_type": "stream",
     "text": [
      "+-----------+-------------+-------------+---+------+------+----------+----------+--------------------------+\n",
      "|employee_id|department_id|name         |age|gender|salary|hire_date |date_now  |timestamp_now             |\n",
      "+-----------+-------------+-------------+---+------+------+----------+----------+--------------------------+\n",
      "|001        |101          |John Doe     |30 |Male  |50000 |2015-01-01|2025-01-05|2025-01-05 07:17:21.960975|\n",
      "|002        |101          |Jane Smith   |25 |Female|45000 |2016-02-15|2025-01-05|2025-01-05 07:17:21.960975|\n",
      "|003        |102          |Bob Brown    |35 |Male  |55000 |2014-05-01|2025-01-05|2025-01-05 07:17:21.960975|\n",
      "|004        |102          |Alice Lee    |28 |Female|48000 |2017-09-30|2025-01-05|2025-01-05 07:17:21.960975|\n",
      "|005        |103          |Jack Chan    |40 |Male  |60000 |2013-04-01|2025-01-05|2025-01-05 07:17:21.960975|\n",
      "|006        |103          |Jill Wong    |32 |Female|52000 |2018-07-01|2025-01-05|2025-01-05 07:17:21.960975|\n",
      "|007        |101          |James Johnson|42 |Male  |70000 |2012-03-15|2025-01-05|2025-01-05 07:17:21.960975|\n",
      "|008        |102          |Kate Kim     |29 |Female|51000 |2019-10-01|2025-01-05|2025-01-05 07:17:21.960975|\n",
      "|009        |103          |Tom Tan      |33 |Male  |58000 |2016-06-01|2025-01-05|2025-01-05 07:17:21.960975|\n",
      "|010        |104          |Lisa Lee     |27 |Female|47000 |2018-08-01|2025-01-05|2025-01-05 07:17:21.960975|\n",
      "|011        |104          |David Park   |38 |Male  |65000 |2015-11-01|2025-01-05|2025-01-05 07:17:21.960975|\n",
      "|012        |105          |Susan Chen   |31 |Female|54000 |2017-02-15|2025-01-05|2025-01-05 07:17:21.960975|\n",
      "|013        |106          |Brian Kim    |45 |Male  |75000 |2011-07-01|2025-01-05|2025-01-05 07:17:21.960975|\n",
      "|014        |107          |Emily Lee    |26 |Female|46000 |2019-01-01|2025-01-05|2025-01-05 07:17:21.960975|\n",
      "|015        |106          |Michael Lee  |37 |Male  |63000 |2014-09-30|2025-01-05|2025-01-05 07:17:21.960975|\n",
      "|016        |107          |Kelly Zhang  |30 |Female|49000 |2018-04-01|2025-01-05|2025-01-05 07:17:21.960975|\n",
      "|017        |105          |George Wang  |34 |Male  |57000 |2016-03-15|2025-01-05|2025-01-05 07:17:21.960975|\n",
      "|018        |104          |Nancy Liu    |29 |Female|50000 |2017-06-01|2025-01-05|2025-01-05 07:17:21.960975|\n",
      "|019        |103          |Steven Chen  |36 |Male  |62000 |2015-08-01|2025-01-05|2025-01-05 07:17:21.960975|\n",
      "|020        |102          |Grace Kim    |32 |Female|53000 |2018-11-01|2025-01-05|2025-01-05 07:17:21.960975|\n",
      "+-----------+-------------+-------------+---+------+------+----------+----------+--------------------------+\n",
      "only showing top 20 rows\n",
      "\n"
     ]
    }
   ],
   "source": [
    "# Add Date Columns\n",
    "# Add current data, timestamp,extract year from hire date\n",
    "from pyspark.sql.functions import current_date,current_timestamp\n",
    "\n",
    "emp_dated = emp_df.withColumn(\"date_now\",current_date())\\\n",
    "            .withColumn(\"timestamp_now\",current_timestamp())\n",
    "emp_dated.show(truncate=False)\n",
    "\n"
   ]
  },
  {
   "cell_type": "code",
   "execution_count": null,
   "id": "3bdf88bb-b12b-46d6-baba-8fbe78f35c15",
   "metadata": {},
   "outputs": [],
   "source": [
    "# drop nulls\n",
    "\n",
    "emp_1 = emp_gender_fixed.drop"
   ]
  }
 ],
 "metadata": {
  "kernelspec": {
   "display_name": "Python 3 (ipykernel)",
   "language": "python",
   "name": "python3"
  },
  "language_info": {
   "codemirror_mode": {
    "name": "ipython",
    "version": 3
   },
   "file_extension": ".py",
   "mimetype": "text/x-python",
   "name": "python",
   "nbconvert_exporter": "python",
   "pygments_lexer": "ipython3",
   "version": "3.10.6"
  }
 },
 "nbformat": 4,
 "nbformat_minor": 5
}
